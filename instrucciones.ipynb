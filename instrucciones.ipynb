{
 "cells": [
  {
   "cell_type": "markdown",
   "metadata": {},
   "source": [
    "El objetivo de las prácticas 1 y 2 es revisar problemas de optimización convexa* que les vayan apoyando/guiando al desarrollo de su práctica/trabajo final.\n",
    "\n",
    "\\***¿Por qué optimización convexa?**\n",
    "\n",
    "En el curso no creo que dé tiempo para que revisemos la no convexa (quizás una clase... pero ya no habrá prácticas más que la final). Si gustan pueden ir al terreno no convexo pero les sugiero lo consultemos primero si es el caso para no complicar demasiado su práctica/trabajo final.\n",
    "\n",
    "**Se utiliza la nube de AWS para todas las prácticas.**\n"
   ]
  },
  {
   "cell_type": "markdown",
   "metadata": {},
   "source": [
    "# Práctica 1"
   ]
  },
  {
   "cell_type": "markdown",
   "metadata": {},
   "source": [
    "La práctica 1 la dividiremos en dos partes. La primera parte consiste en revisar problemas de optimización convexa, datasets, paquetes de software y mostrar algunos resultados. La segunda parte sirve de apoyo para el entendimiento de los métodos numéricos revisados en las notas del capítulo IV mediante su implementación.\n"
   ]
  },
  {
   "cell_type": "markdown",
   "metadata": {},
   "source": [
    "## Primera parte\n",
    "\n",
    "**Sobre uso de herramientas de software ya hechas por la comunidad científica para resolver problemas de optimización convexa de pequeña, mediana o gran escala.**\n",
    "\n"
   ]
  },
  {
   "cell_type": "markdown",
   "metadata": {},
   "source": [
    "## Segunda parte"
   ]
  },
  {
   "cell_type": "markdown",
   "metadata": {},
   "source": [
    "**Descripción:** implementar un método numérico que resuelva problemas de optimización convexa de pequeña escala. "
   ]
  },
  {
   "cell_type": "markdown",
   "metadata": {},
   "source": [
    "## ¿Qué hay que entregar?"
   ]
  },
  {
   "cell_type": "markdown",
   "metadata": {},
   "source": [
    "* Implementación del método numérico elegido en un lenguaje de su elección.\n",
    "\n",
    "* El método numérico debe poder usarse a través de un paquete del lenguaje que ustedes elijan (hay que crear un paquete que tenga su método numérico). Por ejemplo si es de *Python* entonces: `pip install <pkg>` y luego `import <pkg>`.\n",
    "\n",
    "* Crear documentación del paquete con [sphinx](https://www.sphinx-doc.org/en/master/). Ver [cookiecutter-pypackage](https://github.com/audreyfeldroy/cookiecutter-pypackage) para un ejemplo de lo que un paquete de software debería tener y [example-python-package-and-sphinx-doc](https://github.com/palmoreck/example-python-package-and-sphinx-doc) de instrucciones y archivos que pueden usar de apoyo. Si conocen otra herramienta para documentación pueden usarla. Algunos ejemplos de documentación de *Python, R, Julia* que pueden crearse con `sphinx` son: [rasterio](https://rasterio.readthedocs.io/en/latest/), [Spatial Data Science with R](https://rspatial.org/raster/index.html), [MLDataUtils](https://mldatautilsjl.readthedocs.io/en/latest/index.html). La publicación de la documentación realícenla con [github pages](https://pages.github.com/) o [readthedocs](https://readthedocs.org/). Ver [getting started with sphinx](https://docs.readthedocs.io/en/stable/intro/getting-started-with-sphinx.html#getting-started-with-sphinx). Para R se tiene [roxygen2](https://github.com/r-lib/roxygen2), [pkgdown](https://github.com/r-lib/pkgdown).\n",
    "\n",
    "* Botón de [binder](https://mybinder.org/) para que desde este repo pueda probar su paquete.\n",
    "\n",
    "* *Dockerfile* e imagen de docker que instale todo el *software* necesario para que funcione su paquete y también tenga instalado su paquete. La imagen de docker debe estar alojada en su cuenta de *dockerhub*.\n",
    "\n",
    "* *Tests* que muestren que su método numérico resuelve dos ejemplos de pequeña escala de problemas de optimización."
   ]
  },
  {
   "cell_type": "markdown",
   "metadata": {},
   "source": [
    "## Nota sobre la construcción de la imagen de docker"
   ]
  },
  {
   "cell_type": "markdown",
   "metadata": {},
   "source": [
    "La imagen de docker debe construirse y alojarse (*build & push*) **automáticamente** en *dockerhub* con un lanzamiento de un *workflow* de github vía *github actions*. Consultar las siguientes referencias para esto:\n",
    "\n",
    "* [build-push-action](https://github.com/docker/build-push-action)\n",
    " \n",
    "* [publishing-images-to-docker-hub](https://docs.github.com/en/free-pro-team@latest/actions/guides/publishing-docker-images#publishing-images-to-docker-hub)\n",
    " \n",
    "* [creating-encrypted-secrets-for-an-organization](https://docs.github.com/en/free-pro-team@latest/actions/reference/encrypted-secrets#creating-encrypted-secrets-for-an-organization)\n",
    " \n",
    "* [example-docker-image-build-and-push](https://github.com/palmoreck/example-docker-image-build-and-push/blob/main/README.md)\n"
   ]
  },
  {
   "cell_type": "markdown",
   "metadata": {},
   "source": [
    "Entonces colocan su *Dockerfile* en su repo. Cualquier *commit* que modifique su *Dockerfile* esto lanza un *worfklow* de github que hace un *build & push* a su *dockerhub* de manera automática."
   ]
  },
  {
   "cell_type": "markdown",
   "metadata": {},
   "source": [
    "## Nota sobre los *tests* para su método numérico"
   ]
  },
  {
   "cell_type": "markdown",
   "metadata": {},
   "source": [
    "Los *tests* deben pasarse **automáticamente** con un lanzamiento de un *workflow* de github vía *github actions* (esto es igual que lo que realizaron para la materia de Optimización 1)."
   ]
  },
  {
   "cell_type": "markdown",
   "metadata": {},
   "source": [
    "El propósito de los *tests* es revisar que su método numérico resuelve correctamente dos problemas de optimización convexa. Algunas referencias donde pueden obtener ejemplos de problemas de optimización de programación lineal son:\n",
    "\n",
    "* [JE Beasley: Ejemplos PLs 1](http://people.brunel.ac.uk/~mastjjb/jeb/or/morelp.html), [JE Beasley: Ejemplos PLs 2](http://people.brunel.ac.uk/~mastjjb/jeb/or/lpmore.html), [JE Beasley: or library](http://people.brunel.ac.uk/~mastjjb/jeb/info.html)\n",
    "\n",
    "* [Introducción a la IDO](https://dudasytareas.files.wordpress.com/2017/05/hillier_lieberman.pdf)\n",
    "\n"
   ]
  },
  {
   "cell_type": "markdown",
   "metadata": {},
   "source": [
    "## Nota sobre métodos numéricos a elegir"
   ]
  },
  {
   "cell_type": "markdown",
   "metadata": {},
   "source": [
    "Elijan un método numérico de los que se han dado en [libro de optimización](https://itam-ds.github.io/analisis-numerico-computo-cientifico/README.html) del capítulo IV u otro que hayan encontrado en la parte 1 de la práctica 1 con su investigación. \n",
    "\n",
    "Aquí coloco una lista ejemplo de métodos numéricos (no es exhaustiva):\n",
    "\n",
    "* Algoritmos basados en árboles o grafos para optimización de redes.\n",
    "\n",
    "* Método de símplex, dual símplex o símplex en redes.\n",
    "\n",
    "* Método de puntos interiores, barrera logarítmica.\n",
    "\n",
    "* Métodos Cuasi Newton.\n",
    "\n",
    "* Método de gradiente conjugado.\n",
    "\n",
    "* Método de región de confianza.\n",
    "\n",
    "* Método de Gauss-Newton.\n",
    "\n",
    "* Método de Levenberg–Marquardt.\n",
    "\n",
    "* Métodos en optimización combinatoria.\n",
    "\n",
    "* Métodos que resuelvan problemas planteados en *machine learning*\n",
    "\n",
    "La **práctica 2** consistirá en reimplementar tal algoritmo con cómputo en paralelo (CPU/GPU) o con compilación a C (por ejemplo vía [cython](https://cython.org/), [rcpp](http://www.rcpp.org/)) o si han usado [julia](https://julialang.org/) también es una opción. Entonces elíjanlo con esto en mente. La **práctica final** consistirá en aplicar su método para un *dataset* que uds elegirán.\n",
    "\n",
    "Para realizar lo anterior a continuación coloco una lista de paquetes que les apoyarán. Piensen por ejemplo que el método símplex y el método primal-dual requieren de resolver sistemas de ecuaciones lineales para resolver los problemas de optimización, entonces podrán usar algún paquete de cómputo en paralelo para resolver tal sistema.\n"
   ]
  },
  {
   "cell_type": "markdown",
   "metadata": {},
   "source": [
    "* [pytorch](https://github.com/pytorch/pytorch)\n",
    "\n",
    "* [gpuR](https://github.com/cdeterman/gpuR)\n",
    "\n",
    "* [gputools](https://rdrr.io/cran/gputools/)\n",
    "\n",
    "* [Rth-org/Rth](https://github.com/Rth-org/Rth) y más reciente [matloff/Rth](https://github.com/matloff/Rth)\n",
    "\n",
    "* [Theano](https://github.com/Theano/Theano), [pymc3](https://github.com/pymc-devs/pymc3)\n",
    "\n",
    "* [PyCUDA](https://github.com/inducer/pycuda)\n",
    "\n",
    "* [CuPy](https://github.com/cupy/cupy)\n",
    "\n",
    "* [dask](https://github.com/dask/dask)\n",
    "\n",
    "* [dask CUDA](https://github.com/rapidsai/dask-cuda), [Rapids](https://rapids.ai/)\n",
    "\n",
    "* [multiprocessing](https://docs.python.org/3.1/library/multiprocessing.html)\n",
    "\n",
    "* [openMP](http://www.openmp.org/)\n",
    "\n",
    "* [parallel](https://www.rdocumentation.org/packages/parallel/versions/3.6.2)\n",
    "\n",
    "* [foreach](https://www.rdocumentation.org/packages/foreach/versions/1.4.7/topics/foreach)\n",
    "\n",
    "* [CUDA-C](https://docs.nvidia.com/cuda/cuda-c-programming-guide/index.html)\n",
    "\n",
    "* [tensorflow](https://github.com/tensorflow)\n",
    "\n",
    "* [keras](https://github.com/keras-team/keras)\n",
    "\n",
    "* [caffe](https://github.com/BVLC/caffe)\n",
    "\n",
    "* [mxnet](https://github.com/apache/incubator-mxnet)\n"
   ]
  },
  {
   "cell_type": "markdown",
   "metadata": {},
   "source": [
    "## Referencia para *github workflows*"
   ]
  },
  {
   "cell_type": "markdown",
   "metadata": {},
   "source": [
    "[workflow-syntax-for-github-actions](https://docs.github.com/en/actions/reference/workflow-syntax-for-github-actions)\n",
    "\n",
    "[github-actions](https://github.com/features/actions)"
   ]
  },
  {
   "cell_type": "markdown",
   "metadata": {},
   "source": [
    "# Notas para la práctica/trabajo final"
   ]
  },
  {
   "cell_type": "markdown",
   "metadata": {},
   "source": [
    "Es **muy importante** en cualquier dataset, paquete de software o problema de optimización que elijan para su práctica/trabajo final, se estudie **muy bien** lo siguiente:\n",
    "\n",
    "* ¿Qué características tiene el problema de optimización?\n",
    "\n",
    "* ¿Qué tipo de problema de optimización es?\n",
    "\n",
    "* Entendimiento del método de optimización utilizado (vía una implementación por ejemplo)\n",
    "\n",
    "* ¿Qué métodos existen para resolver el problema de optimización?\n",
    "\n",
    "* ¿Cómo están resolviendo los métodos el problema de optimización?\n",
    "\n"
   ]
  }
 ],
 "metadata": {
  "kernelspec": {
   "display_name": "Python 3",
   "language": "python",
   "name": "python3"
  },
  "language_info": {
   "codemirror_mode": {
    "name": "ipython",
    "version": 3
   },
   "file_extension": ".py",
   "mimetype": "text/x-python",
   "name": "python",
   "nbconvert_exporter": "python",
   "pygments_lexer": "ipython3",
   "version": "3.7.3"
  }
 },
 "nbformat": 4,
 "nbformat_minor": 4
}
