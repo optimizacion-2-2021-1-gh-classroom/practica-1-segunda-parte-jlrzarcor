{
 "cells": [
  {
   "cell_type": "markdown",
   "metadata": {},
   "source": [
    "# Regresión Logística\n",
    "\n",
    "Es un método de clasificación que predice las clases $0$ y $1$\n",
    "\n",
    "$$0 \\leq h(x) \\leq 1$$\n",
    "\n",
    "$$h_{\\beta}(X) = g(\\beta^{T})$$\n",
    "\n",
    "$$g(z) = \\frac{1}{1+e^{-z}} \\leftarrow sigmoide$$\n",
    "\n",
    "$\\beta^{T} X$ Define el límite de decisión de la función de clasificación.\n",
    "\n",
    "* si $\\beta^{T} X \\geq 0 $ se clasifica como 1\n",
    "* si $\\beta^{T} X \\leq 0 $ se clasifica como 0\n",
    "\n",
    "Para optimizar usamos una función de costos:\n",
    "\n",
    "$$J(\\beta_{0},\\beta_{1},...,\\beta_{n}) = \\frac{1}{m} \\sum_{i=1}^{m} \\frac{1}{2}(h_{\\beta}(x^{(i)})-y^{(i)})^2 $$\n",
    "\n",
    "pero esta función no es convexa por lo que \n",
    "\n",
    "$$J(\\beta_{0},\\beta_{1},...,\\beta_{n}) = \\frac{1}{m} \\sum_{i=1}^{m} costo(h_{\\beta}(x^{(i)}),y^{(i)})$$\n",
    "\n",
    "Se puede reescribir la función de costos como:\n",
    "\n",
    "$$costo(h_{\\beta}(x),y) = -y \\ log(h_{\\beta}(x))-(1-y) \\ log(1-h_{\\beta}(x)) $$\n",
    "\n",
    "Lo que deriva a\n",
    "\n",
    "$$\\beta_{j} := \\beta_{j} - \\lambda \\ \\frac{\\partial}{\\partial \\beta_{j}} \\ J(\\beta_{0},\\beta_{1},...,\\beta_{n}) $$\n",
    "\n",
    "\n",
    "$$J(\\beta_{0},\\beta_{1},...,\\beta_{n}) =  \\frac{1}{m} \\sum_{i=1}^{m} costo(h_{\\beta}(x^{(i)}), y^{(i)})$$\n",
    "\n",
    "$$\\frac{\\partial}{\\partial \\beta_{j}} J(\\beta_{0},\\beta_{1},...,\\beta_{n}) = \\frac{1}{m} \\sum_{i=1}^{m} (h_{\\beta}(x^{(i)})-y^{(i)}) \\ x_{j}^{(i)} $$\n",
    "\n",
    "\n",
    "Con el método de descenso en gradiente, se repite hasta que converja:\n",
    "\n",
    "$$\\beta_{j} := \\beta_{j} - \\lambda  \\ \\frac{1}{m} \\sum_{i=1}^{m} (h_{\\beta}(x^{(i)})-y^{(i)}) \\ x_{j}^{(i)}$$\n",
    "\n",
    "para $j=0$ hasta $n$"
   ]
  }
 ],
 "metadata": {
  "kernelspec": {
   "display_name": "Python 3",
   "language": "python",
   "name": "python3"
  },
  "language_info": {
   "codemirror_mode": {
    "name": "ipython",
    "version": 3
   },
   "file_extension": ".py",
   "mimetype": "text/x-python",
   "name": "python",
   "nbconvert_exporter": "python",
   "pygments_lexer": "ipython3",
   "version": "3.7.3"
  }
 },
 "nbformat": 4,
 "nbformat_minor": 4
}
