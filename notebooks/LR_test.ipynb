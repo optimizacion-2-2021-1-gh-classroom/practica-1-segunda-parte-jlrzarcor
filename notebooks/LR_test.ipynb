{
 "cells": [
  {
   "cell_type": "code",
   "execution_count": 101,
   "metadata": {},
   "outputs": [],
   "source": [
    "import os"
   ]
  },
  {
   "cell_type": "code",
   "execution_count": 102,
   "metadata": {},
   "outputs": [
    {
     "data": {
      "text/plain": [
       "'/datos'"
      ]
     },
     "execution_count": 102,
     "metadata": {},
     "output_type": "execute_result"
    }
   ],
   "source": [
    "os.getcwd()"
   ]
  },
  {
   "cell_type": "code",
   "execution_count": 103,
   "metadata": {},
   "outputs": [],
   "source": [
    "os.chdir('../')"
   ]
  },
  {
   "cell_type": "code",
   "execution_count": 104,
   "metadata": {},
   "outputs": [],
   "source": [
    "from src.log_reg import *"
   ]
  },
  {
   "cell_type": "code",
   "execution_count": 105,
   "metadata": {},
   "outputs": [],
   "source": [
    "## libraries and functions.\n",
    "\n",
    "import numpy as np\n",
    "import pandas as pd\n",
    "import scipy\n",
    "from sklearn.preprocessing import StandardScaler\n",
    "\n",
    "import cvxpy as cp"
   ]
  },
  {
   "cell_type": "code",
   "execution_count": 106,
   "metadata": {},
   "outputs": [
    {
     "data": {
      "text/plain": [
       "'/'"
      ]
     },
     "execution_count": 106,
     "metadata": {},
     "output_type": "execute_result"
    }
   ],
   "source": [
    "currentDirectory = os.getcwd()\n",
    "currentDirectory"
   ]
  },
  {
   "cell_type": "code",
   "execution_count": 108,
   "metadata": {},
   "outputs": [],
   "source": [
    "### download dataset\n",
    "dataset_bcw = np.loadtxt('datos/practica_1_2/notebooks/datasets/breast_cancer_wisconsin_(original)_dataset.txt',delimiter=',')"
   ]
  },
  {
   "cell_type": "code",
   "execution_count": 109,
   "metadata": {},
   "outputs": [],
   "source": [
    "### data and targe split\n",
    "target_bcw = dataset_bcw[:,0]\n",
    "data_bcw = dataset_bcw[ : , 1:30]\n",
    "std_transform = StandardScaler()\n",
    "dat_bcw_sca = std_transform.fit_transform(data_bcw)"
   ]
  },
  {
   "cell_type": "code",
   "execution_count": 31,
   "metadata": {},
   "outputs": [
    {
     "data": {
      "text/plain": [
       "array([[ 0.     , 14.2    , 20.53   , ...,  0.1339 ,  0.2534 ,  0.07858],\n",
       "       [ 0.     , 12.88   , 18.22   , ...,  0.1096 ,  0.2582 ,  0.08893],\n",
       "       [ 1.     , 12.68   , 23.84   , ...,  0.1716 ,  0.3383 ,  0.1031 ],\n",
       "       ...,\n",
       "       [ 0.     , 12.8    , 17.46   , ...,  0.08296,  0.1988 ,  0.07053],\n",
       "       [ 0.     , 13.4    , 16.95   , ...,  0.06987,  0.2741 ,  0.07582],\n",
       "       [ 0.     , 14.74   , 25.42   , ...,  0.1095 ,  0.2722 ,  0.06956]])"
      ]
     },
     "execution_count": 31,
     "metadata": {},
     "output_type": "execute_result"
    }
   ],
   "source": [
    "dataset_bcw"
   ]
  },
  {
   "cell_type": "code",
   "execution_count": null,
   "metadata": {},
   "outputs": [],
   "source": [
    "model.optimizae(train_set, train_target)\n",
    "prediction = model.predict(test_set)"
   ]
  },
  {
   "cell_type": "code",
   "execution_count": 72,
   "metadata": {},
   "outputs": [],
   "source": [
    "def split(data, percent = 0.7, target = -1):\n",
    "        \"\"\"\n",
    "\n",
    "        :param data:\n",
    "        :param percent:\n",
    "        :param target:\n",
    "        :return:\n",
    "        \"\"\"\n",
    "        cut = int(data.shape[0]*percent)\n",
    "        train_set = data[0:cut+1,:]\n",
    "        test_set = data[cut+1:,:]\n",
    "        train_target = train_set[:,target]\n",
    "        test_target = test_set[:,target]\n",
    "        if target == -1:\n",
    "            test_set = test_set[:,:-1]\n",
    "            train_set = train_set[:,:-1]\n",
    "        else:\n",
    "            test_set = test_set[:,1:]\n",
    "            train_set = train_set[:,1:]\n",
    "        return train_set, test_set, train_target, test_target"
   ]
  },
  {
   "cell_type": "code",
   "execution_count": 73,
   "metadata": {},
   "outputs": [],
   "source": [
    "train_set, test_set, train_target, test_target = split(data_bcw, target = 0)"
   ]
  },
  {
   "cell_type": "code",
   "execution_count": 121,
   "metadata": {},
   "outputs": [],
   "source": [
    "dataset_bcw.shape\n",
    "cut = int(dataset_bcw.shape[0]*0.7)\n",
    "train_set = dataset_bcw[:cut+1,:]\n",
    "test_set = dataset_bcw[cut+1:,:]\n",
    "test_target = test_set[:,0]\n",
    "train_target = train_set[:,0]\n",
    "test_set = test_set[:,1:]\n",
    "train_set = train_set[:,1:]"
   ]
  },
  {
   "cell_type": "code",
   "execution_count": 122,
   "metadata": {},
   "outputs": [
    {
     "name": "stdout",
     "output_type": "stream",
     "text": [
      "(339, 30) (145, 30) (339,) (145,)\n"
     ]
    }
   ],
   "source": [
    "print(train_set.shape,test_set.shape, train_target.shape, test_target.shape)"
   ]
  },
  {
   "cell_type": "code",
   "execution_count": 86,
   "metadata": {},
   "outputs": [
    {
     "data": {
      "text/plain": [
       "(145, 30)"
      ]
     },
     "execution_count": 86,
     "metadata": {},
     "output_type": "execute_result"
    }
   ],
   "source": [
    "train_set.shape"
   ]
  },
  {
   "cell_type": "code",
   "execution_count": 110,
   "metadata": {},
   "outputs": [],
   "source": [
    "model = LogisticRegression()"
   ]
  },
  {
   "cell_type": "code",
   "execution_count": 123,
   "metadata": {},
   "outputs": [
    {
     "name": "stderr",
     "output_type": "stream",
     "text": [
      "/datos/practica_1_2/src/log_reg.py:11: RuntimeWarning: overflow encountered in exp\n",
      "  return 1 / (1 + np.exp(-x))\n"
     ]
    }
   ],
   "source": [
    "model.optimize(train_set, train_target, lr = 0.1, iterations = 1000)\n",
    "#"
   ]
  },
  {
   "cell_type": "code",
   "execution_count": null,
   "metadata": {},
   "outputs": [],
   "source": [
    "#Definición de matriz simétrica\n",
    "def es_simetrica(matriz,orden):\n",
    "    simetrica=True\n",
    "    for i in range (orden):\n",
    "        for j in range (orden):\n",
    "            if (matriz[i][j]!=matriz[j][i]):\n",
    "                simetrica=False\n",
    "    return simetrica"
   ]
  },
  {
   "cell_type": "code",
   "execution_count": 124,
   "metadata": {},
   "outputs": [],
   "source": [
    "prediction = model.predict(test_set)\n"
   ]
  },
  {
   "cell_type": "code",
   "execution_count": 125,
   "metadata": {},
   "outputs": [
    {
     "data": {
      "text/plain": [
       "145"
      ]
     },
     "execution_count": 125,
     "metadata": {},
     "output_type": "execute_result"
    }
   ],
   "source": [
    "len(prediction)"
   ]
  },
  {
   "cell_type": "code",
   "execution_count": 126,
   "metadata": {},
   "outputs": [
    {
     "data": {
      "text/plain": [
       "(339, 30)"
      ]
     },
     "execution_count": 126,
     "metadata": {},
     "output_type": "execute_result"
    }
   ],
   "source": [
    "train_set.shape"
   ]
  }
 ],
 "metadata": {
  "kernelspec": {
   "display_name": "Python 3",
   "language": "python",
   "name": "python3"
  },
  "language_info": {
   "codemirror_mode": {
    "name": "ipython",
    "version": 3
   },
   "file_extension": ".py",
   "mimetype": "text/x-python",
   "name": "python",
   "nbconvert_exporter": "python",
   "pygments_lexer": "ipython3",
   "version": "3.7.3"
  }
 },
 "nbformat": 4,
 "nbformat_minor": 4
}
